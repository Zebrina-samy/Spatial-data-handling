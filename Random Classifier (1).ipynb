{
 "cells": [
  {
   "cell_type": "markdown",
   "id": "ec58907d",
   "metadata": {},
   "source": [
    "# Flood Susceptibility Mapping in The Lower St.John River"
   ]
  },
  {
   "cell_type": "markdown",
   "id": "a6f35fcf",
   "metadata": {},
   "source": [
    "# Project Background\n",
    "Flood events can have significant and far-reaching consequences, impacting communities, infrastructure, and the environment. Understanding the susceptibility of different areas to flooding is crucial for effective disaster preparedness, response, and mitigation efforts. In our case, the focus is on the lower section of the Saint John River, where a comprehensive analysis of flood susceptibility will be undertaken(Auliagisni et al., 2022).\n",
    "New Brunswick, Canada, has a well-documented history of flood events, especially along the Saint John River, a region prone to flooding,the lower section spanning from Fredericton to St. John. This assignment aims to use various datasets for the year 2018 to develop a predictive model for assessing the probability of flooding across the study region\n",
    "\n",
    "\n",
    "# Research Question\n",
    "The primary question driving this project was:\n",
    "\n",
    "# What areas within the study region are susceptible to flooding, and can we predict the probability of flooding based on historical event data?\n",
    "\n",
    "To answer this question, the Knowledge Discovery in Databases (KDD) process was employed, leveraging spatial data, including Digital Elevation Models (DEM), land cover information, and slope data. The goal was to develop a robust predictive model that identifies regions at higher risk of flooding given various environmental factors.\n",
    "\n",
    "# Data Sources\n",
    "To address this research question, various datasets were utilized from various sources, including the Floods in Canada – Cartographic Product Collection by Natural Resources Canada (NRCan). Additionally, Digital Elevation Models, land cover information, and historical weather data from GeoNB and GeoMET API will be incorporated to enhance the predictive capabilities of our model."
   ]
  },
  {
   "cell_type": "markdown",
   "id": "2c7edd69",
   "metadata": {},
   "source": [
    "# Datasets\n",
    "Dependent Variable: Flood Points\n",
    "The dependent variable for this study was the occurrence of flood points, representing locations that have experienced flooding during historical events. The dataset for flood points was sourced from the Floods in Canada – Cartographic Product Collection by Natural Resources Canada (NRCan). This dataset provides spatial information about the geographical extent of flood events, allowing us to identify areas susceptible to flooding.\n",
    "\n",
    "Source: Floods in Canada – Cartographic Product Collection by NRCan\n",
    "Data: Spatial information on flood points\n",
    "Projection: [NAD_1983_CSRS_New_Brunswick_Stereographic]\n",
    "Format: [shapefile]\n",
    "Processing: The flood points dataset underwent preprocessing steps, such as cleaning, removing duplicates, and ensuring consistency in spatial attributes. \n",
    "Independent Variables\n",
    "1. Slope and Elevation from Digital Elevation Model (DEM)\n",
    "The elevation and slope of the terrain play a crucial role in understanding flood susceptibility. Digital Elevation Models provided significant information about the topography of the study region.\n",
    "\n",
    "Source: GEE [https://code.earthengine.google.com/09f15f646129f0281c25033113e29caf]\n",
    "Processing: The DEM was processed in the google earth engine and then the projection system rectified in  a GIS environment preprocessed later on the terrain parameter, slope information was derived from the DEM to understand the inclination of the terrain in the study area.\n",
    "2. Forest Soils\n",
    "Understanding the soil composition, particularly forested areas, was essential in assessing flood susceptibility. Forest soils have unique characteristics that influence water absorption and runoff.\n",
    "\n",
    "Source: GeoNB [http://www.snb.ca/geonb1/e/DC/catalogue-E.asp]\n",
    "Processing: The forest soils data underwent convertion to Geotiff to categorize soil types and ensure compatibility with other datasets. \n",
    "Data Integration and Preprocessing\n",
    "Before model development, the datasets were integrated based on spatial relationships to create a unified dataset with both dependent and independent variables. Data preprocessing included handling missing values, scaling(aligning and resizing), and convertion into point features. The final dataset were then split into training,testing and validation sets for model evaluation.\n",
    "\n",
    "Also before the process was initiated,the Dependent variables were converted to raster files and Dependent variable was converted to data points,with an encoding of labels of 0 and 1, Non flooded and looded points"
   ]
  },
  {
   "cell_type": "markdown",
   "id": "7f3ea38b",
   "metadata": {},
   "source": [
    "# Why RF Classifier\n",
    "The selected task for this project was classification using the Random Forest algorithm. Classification was chosen as the appropriate task because it was aimed to predict whether a specific location was susceptible to flooding or not. Alternatively the task involved assigning each point in the study region to one of two classes: flood-prone or not flood-prone.\n",
    "Given the nature of the research question — determining the probability of flooding in different areas — classification is well-suited for this scenario. The output of the model provides a binary classification for each location, indicating its susceptibility to flooding during historical events. Random forest models have been increasingly utilized in flood susceptibility mapping due to the ability to handle complex interractions among multiple variables( Farhadi and Najafzadeh, 2021)"
   ]
  },
  {
   "cell_type": "markdown",
   "id": "bc8f6874",
   "metadata": {},
   "source": [
    "# Hyperparametrization\n",
    "The training dataset was used to train the model, the validation dataset was used for hyperparamter tuning and the testing dataset was used to test the model.\n",
    "X_train, X_val, y_train, y_val = train_test_split(X_train_val, y_train_val, test_size=0.25,shuffle=True, random_state=42)"
   ]
  },
  {
   "cell_type": "markdown",
   "id": "1d1de7c0",
   "metadata": {},
   "source": [
    "# Evaluation of Results\n",
    "The evaluation metrics provide insights into the performance of the Random Forest model in predicting flood susceptibility. The following metrics were computed:\n",
    "\n",
    "1. Kappa Coefficient\n",
    "Kapa Coefficient: 0.91\n",
    "\n",
    "The Kappa coefficient is a statistical measure that assesses the agreement between predicted and observed classifications, correcting for the agreement occurring by chance. A Kappa coefficient of 0.91 indicated a high level of agreement beyond what would be expected by chance, suggesting robust model performance.\n",
    "\n",
    "2. ROC Curve Area\n",
    "ROC Curve Area: 0.99\n",
    "\n",
    "The ROC (Receiver Operating Characteristic) curve is a graphical representation of the model's ability to discriminate between positive and negative classes across different threshold values. An ROC curve area of 0.99 signified excellent discrimination ability, with minimal false positives and false negatives.\n",
    "\n",
    "3. Overall Accuracy\n",
    "Overall Accuracy: 0.96\n",
    "\n",
    "Overall accuracy is a fundamental metric representing the ratio of correctly predicted instances to the total number of instances. An accuracy of 0.96 indicated that the model correctly predicted flood susceptibility in 96% of cases, emphasizing the model's effectiveness in capturing the true outcomes.\n",
    "\n",
    "Class: Not Flooded\n",
    "Precision: 0.978\n",
    "The ratio of correctly predicted instances of \"Not Flooded\" to the total instances predicted as \"Not Flooded.\" It indicates a high accuracy in classifying non-flooded areas.\n",
    "Recall: 0.973\n",
    "The ratio of correctly predicted instances of \"Not Flooded\" to the actual total instances of \"Not Flooded.\" It measures the model's ability to capture all non-flooded areas.\n",
    "F1-Score: 0.975\n",
    "The harmonic mean of precision and recall, providing a balanced metric. A high F1-score indicates a good balance between precision and recall for the \"Not Flooded\" class.\n",
    "Class: Flooded\n",
    "Precision: 0.929\n",
    "The ratio of correctly predicted instances of \"Flooded\" to the total instances predicted as \"Flooded.\" It signifies the accuracy in classifying flooded areas.\n",
    "Recall: 0.943\n",
    "The ratio of correctly predicted instances of \"Flooded\" to the actual total instances of \"Flooded.\" It measures the model's ability to capture all flooded areas.\n",
    "F1-Score: 0.936\n",
    "The harmonic mean of precision and recall for the \"Flooded\" class. A high F1-score indicates a good balance between precision and recall for flooded areas.\n",
    "Overall Metrics\n",
    "Accuracy: 0.965\n",
    "The ratio of correctly predicted instances to the total instances. Overall model accuracy is high at 96.5%.\n",
    "Macro Average Precision: 0.954\n",
    "The average precision across classes, giving equal weight to each class. It provides an overall measure of precision.\n",
    "Macro Average Recall: 0.958\n",
    "The average recall across classes, giving equal weight to each class. It provides an overall measure of recall.\n",
    "Macro Average F1-Score: 0.956\n",
    "The average F1-score across classes, giving equal weight to each class. It provides an overall measure of the model's balance between precision and recall.\n",
    "Weighted Average\n",
    "Weighted Average Precision: 0.965\n",
    "Weighted Average Recall: 0.965\n",
    "Weighted Average F1-Score: 0.965"
   ]
  },
  {
   "cell_type": "markdown",
   "id": "45488b53",
   "metadata": {},
   "source": [
    "# a) An introduction to the project and question being answered (e.g.: what areas are susceptible to\n",
    "# flooding)\n",
    "# b) Details on the dataset on which the discovery is being performed (dependent variable) (e.g.:\n",
    "# source, data, projection, format and what processing might have been done on it)"
   ]
  },
  {
   "cell_type": "code",
   "execution_count": 1,
   "id": "f8671fe7",
   "metadata": {},
   "outputs": [],
   "source": [
    "# Import used packages\n",
    "import geopandas as gpd  # used to read the shapfile\n",
    "import rasterio as rio   # used to read the raster (.tif) files\n",
    "from rasterio.plot import show # used to make plots using rasterio\n",
    "import matplotlib.pyplot as plt #to make plots using matplotlib\n",
    "import pandas as pd\n",
    "import os"
   ]
  },
  {
   "cell_type": "code",
   "execution_count": 2,
   "id": "4d052158",
   "metadata": {},
   "outputs": [],
   "source": [
    "# Step 2: Set the working directory\n",
    "data_path = r'F:\\AcPro Basics\\Toronto White Cups\\Regression\\Data\\Data'\n",
    "os.chdir(data_path)"
   ]
  },
  {
   "cell_type": "code",
   "execution_count": 7,
   "id": "c4f62653",
   "metadata": {},
   "outputs": [],
   "source": [
    "# Read your point shapefiles (Flooded and Non Flooded locations)\n",
    "points=gpd.read_file('Inventory1.shp')"
   ]
  },
  {
   "cell_type": "code",
   "execution_count": 8,
   "id": "25cd815d",
   "metadata": {},
   "outputs": [],
   "source": [
    "# make columns to extract the values of each predictive feature\n",
    "# for each point. \n",
    "points['Elevation']=0 #\n",
    "points['Slope']=0\n",
    "points['Soils']=0\n",
    "points['Lc']=0\n"
   ]
  },
  {
   "cell_type": "code",
   "execution_count": 19,
   "id": "0976545f",
   "metadata": {},
   "outputs": [
    {
     "name": "stderr",
     "output_type": "stream",
     "text": [
      "WARNING:rasterio._env:CPLE_AppDefined in PROJ: proj_create_from_database: Cannot find proj.db\n",
      "WARNING:rasterio._env:CPLE_AppDefined in PROJ: proj_create_from_name: Cannot find proj.db\n",
      "WARNING:rasterio._env:CPLE_AppDefined in The definition of projected CRS EPSG:2953 got from GeoTIFF keys is not the same as the one from the EPSG registry, which may cause issues during reprojection operations. Set GTIFF_SRS_SOURCE configuration option to EPSG to use official parameters (overriding the ones from GeoTIFF keys), or to GEOKEYS to use custom values from GeoTIFF keys and drop the EPSG code.\n",
      "WARNING:rasterio._env:CPLE_AppDefined in PROJ: proj_create_from_database: Cannot find proj.db\n",
      "WARNING:rasterio._env:CPLE_AppDefined in PROJ: proj_create_from_name: Cannot find proj.db\n",
      "WARNING:rasterio._env:CPLE_AppDefined in The definition of projected CRS EPSG:2953 got from GeoTIFF keys is not the same as the one from the EPSG registry, which may cause issues during reprojection operations. Set GTIFF_SRS_SOURCE configuration option to EPSG to use official parameters (overriding the ones from GeoTIFF keys), or to GEOKEYS to use custom values from GeoTIFF keys and drop the EPSG code.\n",
      "WARNING:rasterio._env:CPLE_AppDefined in PROJ: proj_create_from_database: Cannot find proj.db\n",
      "WARNING:rasterio._env:CPLE_AppDefined in PROJ: proj_create_from_name: Cannot find proj.db\n",
      "WARNING:rasterio._env:CPLE_AppDefined in The definition of projected CRS EPSG:2953 got from GeoTIFF keys is not the same as the one from the EPSG registry, which may cause issues during reprojection operations. Set GTIFF_SRS_SOURCE configuration option to EPSG to use official parameters (overriding the ones from GeoTIFF keys), or to GEOKEYS to use custom values from GeoTIFF keys and drop the EPSG code.\n",
      "WARNING:rasterio._env:CPLE_AppDefined in PROJ: proj_create_from_database: Cannot find proj.db\n",
      "WARNING:rasterio._env:CPLE_AppDefined in PROJ: proj_create_from_name: Cannot find proj.db\n",
      "WARNING:rasterio._env:CPLE_AppDefined in The definition of projected CRS EPSG:2953 got from GeoTIFF keys is not the same as the one from the EPSG registry, which may cause issues during reprojection operations. Set GTIFF_SRS_SOURCE configuration option to EPSG to use official parameters (overriding the ones from GeoTIFF keys), or to GEOKEYS to use custom values from GeoTIFF keys and drop the EPSG code.\n"
     ]
    }
   ],
   "source": [
    "#The predictive features are in raster format so we use rasterio package to \n",
    "#read them and convert them to numpy array\n",
    "\n",
    "DEM_raster=rio.open('DEM1.tif')\n",
    "DEM_arr=DEM_raster.read(1)\n",
    "\n",
    "Slope_raster=rio.open('Slope1.tif')\n",
    "Slope_arr=Slope_raster.read(1)\n",
    "\n",
    "Aspect_raster=rio.open('Soils11.tif')\n",
    "Aspect_arr=Aspect_raster.read(1)\n",
    "\n",
    "Lc_raster=rio.open('LandUse1.tif')\n",
    "Lc_arr=Lc_raster.read(1)\n",
    "\n"
   ]
  },
  {
   "cell_type": "code",
   "execution_count": null,
   "id": "947a2223",
   "metadata": {},
   "outputs": [],
   "source": [
    "import numpy as np\n",
    "\n",
    "# Resize Aspect_arr to match DEM_arr along axis 1\n",
    "new_aspect_arr = np.resize(Aspect_arr, (DEM_arr.shape[0], DEM_arr.shape[1]))\n",
    "\n",
    "# Resize LULC_arr and Lc_arr similarly\n",
    "new_lulc_arr = np.resize(LULC_arr, (DEM_arr.shape[0], DEM_arr.shape[1]))\n",
    "new_lc_arr = np.resize(Lc_arr, (DEM_arr.shape[0], DEM_arr.shape[1]))\n",
    "\n",
    "# Assign the resized arrays back\n",
    "Aspect_arr = new_aspect_arr\n",
    "LULC_arr = new_lulc_arr\n",
    "Lc_arr = new_lc_arr\n"
   ]
  },
  {
   "cell_type": "markdown",
   "id": "265e036b",
   "metadata": {},
   "source": [
    "# c) Data preprocessing details on the independent variables that are included, including source and\n",
    "# why it was selected)"
   ]
  },
  {
   "cell_type": "code",
   "execution_count": 24,
   "id": "d9e3ce0a",
   "metadata": {},
   "outputs": [],
   "source": [
    "# Extracting the raster values to the points shapefile\n",
    "# count=0\n",
    "for index, row in points.iterrows():\n",
    "    longitude = row['geometry'].x\n",
    "    latitude = row['geometry'].y\n",
    "\n",
    "    rowIndex, colIndex = DEM_raster.index(longitude, latitude)\n",
    "\n",
    "    points.at[index, 'Elevation'] = DEM_arr[rowIndex, colIndex].astype(float)\n",
    "    points.at[index, 'Slope'] = Slope_arr[rowIndex, colIndex].astype(float)\n",
    "    points.at[index, 'Soils'] = Aspect_arr[rowIndex, colIndex].astype(float)\n",
    "    points.at[index, 'Lc'] = Lc_arr[rowIndex, colIndex].astype(float)"
   ]
  },
  {
   "cell_type": "code",
   "execution_count": 25,
   "id": "76cd4e6b",
   "metadata": {},
   "outputs": [
    {
     "data": {
      "text/html": [
       "<div>\n",
       "<style scoped>\n",
       "    .dataframe tbody tr th:only-of-type {\n",
       "        vertical-align: middle;\n",
       "    }\n",
       "\n",
       "    .dataframe tbody tr th {\n",
       "        vertical-align: top;\n",
       "    }\n",
       "\n",
       "    .dataframe thead th {\n",
       "        text-align: right;\n",
       "    }\n",
       "</style>\n",
       "<table border=\"1\" class=\"dataframe\">\n",
       "  <thead>\n",
       "    <tr style=\"text-align: right;\">\n",
       "      <th></th>\n",
       "      <th>OBJECTID_1</th>\n",
       "      <th>OBJECTID</th>\n",
       "      <th>pointid</th>\n",
       "      <th>grid_code</th>\n",
       "      <th>Label</th>\n",
       "      <th>geometry</th>\n",
       "      <th>Elevation</th>\n",
       "      <th>Slope</th>\n",
       "      <th>Soils</th>\n",
       "      <th>Lc</th>\n",
       "    </tr>\n",
       "  </thead>\n",
       "  <tbody>\n",
       "    <tr>\n",
       "      <th>0</th>\n",
       "      <td>563822</td>\n",
       "      <td>590071</td>\n",
       "      <td>590071</td>\n",
       "      <td>0</td>\n",
       "      <td>0</td>\n",
       "      <td>POINT Z (2480684.910 7448277.078 0.000)</td>\n",
       "      <td>0</td>\n",
       "      <td>-340282306073709652508363335590014353408.0</td>\n",
       "      <td>5</td>\n",
       "      <td>65535</td>\n",
       "    </tr>\n",
       "    <tr>\n",
       "      <th>1</th>\n",
       "      <td>563823</td>\n",
       "      <td>590072</td>\n",
       "      <td>590072</td>\n",
       "      <td>0</td>\n",
       "      <td>0</td>\n",
       "      <td>POINT Z (2480726.759 7448277.078 0.000)</td>\n",
       "      <td>0</td>\n",
       "      <td>0.0</td>\n",
       "      <td>5</td>\n",
       "      <td>65535</td>\n",
       "    </tr>\n",
       "    <tr>\n",
       "      <th>2</th>\n",
       "      <td>563824</td>\n",
       "      <td>590073</td>\n",
       "      <td>590073</td>\n",
       "      <td>0</td>\n",
       "      <td>0</td>\n",
       "      <td>POINT Z (2480768.607 7448277.078 0.000)</td>\n",
       "      <td>0</td>\n",
       "      <td>43.914688</td>\n",
       "      <td>2</td>\n",
       "      <td>65535</td>\n",
       "    </tr>\n",
       "    <tr>\n",
       "      <th>3</th>\n",
       "      <td>563825</td>\n",
       "      <td>590074</td>\n",
       "      <td>590074</td>\n",
       "      <td>96</td>\n",
       "      <td>0</td>\n",
       "      <td>POINT Z (2480810.456 7448277.078 0.000)</td>\n",
       "      <td>96</td>\n",
       "      <td>43.696625</td>\n",
       "      <td>2</td>\n",
       "      <td>65535</td>\n",
       "    </tr>\n",
       "    <tr>\n",
       "      <th>4</th>\n",
       "      <td>563826</td>\n",
       "      <td>590075</td>\n",
       "      <td>590075</td>\n",
       "      <td>95</td>\n",
       "      <td>0</td>\n",
       "      <td>POINT Z (2480852.304 7448277.078 0.000)</td>\n",
       "      <td>95</td>\n",
       "      <td>1.184414</td>\n",
       "      <td>2</td>\n",
       "      <td>65535</td>\n",
       "    </tr>\n",
       "  </tbody>\n",
       "</table>\n",
       "</div>"
      ],
      "text/plain": [
       "   OBJECTID_1  OBJECTID  pointid  grid_code  Label  \\\n",
       "0      563822    590071   590071          0      0   \n",
       "1      563823    590072   590072          0      0   \n",
       "2      563824    590073   590073          0      0   \n",
       "3      563825    590074   590074         96      0   \n",
       "4      563826    590075   590075         95      0   \n",
       "\n",
       "                                  geometry  Elevation  \\\n",
       "0  POINT Z (2480684.910 7448277.078 0.000)          0   \n",
       "1  POINT Z (2480726.759 7448277.078 0.000)          0   \n",
       "2  POINT Z (2480768.607 7448277.078 0.000)          0   \n",
       "3  POINT Z (2480810.456 7448277.078 0.000)         96   \n",
       "4  POINT Z (2480852.304 7448277.078 0.000)         95   \n",
       "\n",
       "                                       Slope  Soils     Lc  \n",
       "0 -340282306073709652508363335590014353408.0      5  65535  \n",
       "1                                        0.0      5  65535  \n",
       "2                                  43.914688      2  65535  \n",
       "3                                  43.696625      2  65535  \n",
       "4                                   1.184414      2  65535  "
      ]
     },
     "execution_count": 25,
     "metadata": {},
     "output_type": "execute_result"
    }
   ],
   "source": [
    "points.head() # to have a look on the calculated fields."
   ]
  },
  {
   "cell_type": "code",
   "execution_count": 26,
   "id": "ad4efaf0",
   "metadata": {},
   "outputs": [],
   "source": [
    "# Save the points file\n",
    "\n",
    "points.to_file('invents.shp') # save as a shapfile "
   ]
  },
  {
   "cell_type": "code",
   "execution_count": 27,
   "id": "14a19047",
   "metadata": {},
   "outputs": [],
   "source": [
    "# or\n",
    "points.to_pickle('invents.pkl') # save as a pickle."
   ]
  },
  {
   "cell_type": "code",
   "execution_count": 28,
   "id": "f3839473",
   "metadata": {},
   "outputs": [
    {
     "data": {
      "text/html": [
       "<div>\n",
       "<style scoped>\n",
       "    .dataframe tbody tr th:only-of-type {\n",
       "        vertical-align: middle;\n",
       "    }\n",
       "\n",
       "    .dataframe tbody tr th {\n",
       "        vertical-align: top;\n",
       "    }\n",
       "\n",
       "    .dataframe thead th {\n",
       "        text-align: right;\n",
       "    }\n",
       "</style>\n",
       "<table border=\"1\" class=\"dataframe\">\n",
       "  <thead>\n",
       "    <tr style=\"text-align: right;\">\n",
       "      <th></th>\n",
       "      <th>OBJECTID_1</th>\n",
       "      <th>OBJECTID</th>\n",
       "      <th>pointid</th>\n",
       "      <th>grid_code</th>\n",
       "      <th>Label</th>\n",
       "      <th>geometry</th>\n",
       "      <th>Elevation</th>\n",
       "      <th>Slope</th>\n",
       "      <th>Soils</th>\n",
       "      <th>Lc</th>\n",
       "    </tr>\n",
       "  </thead>\n",
       "  <tbody>\n",
       "    <tr>\n",
       "      <th>0</th>\n",
       "      <td>563822</td>\n",
       "      <td>590071</td>\n",
       "      <td>590071</td>\n",
       "      <td>0</td>\n",
       "      <td>0</td>\n",
       "      <td>POINT Z (2480684.910 7448277.078 0.000)</td>\n",
       "      <td>0</td>\n",
       "      <td>-340282306073709652508363335590014353408.0</td>\n",
       "      <td>5</td>\n",
       "      <td>65535</td>\n",
       "    </tr>\n",
       "    <tr>\n",
       "      <th>1</th>\n",
       "      <td>563823</td>\n",
       "      <td>590072</td>\n",
       "      <td>590072</td>\n",
       "      <td>0</td>\n",
       "      <td>0</td>\n",
       "      <td>POINT Z (2480726.759 7448277.078 0.000)</td>\n",
       "      <td>0</td>\n",
       "      <td>0.0</td>\n",
       "      <td>5</td>\n",
       "      <td>65535</td>\n",
       "    </tr>\n",
       "    <tr>\n",
       "      <th>2</th>\n",
       "      <td>563824</td>\n",
       "      <td>590073</td>\n",
       "      <td>590073</td>\n",
       "      <td>0</td>\n",
       "      <td>0</td>\n",
       "      <td>POINT Z (2480768.607 7448277.078 0.000)</td>\n",
       "      <td>0</td>\n",
       "      <td>43.914688</td>\n",
       "      <td>2</td>\n",
       "      <td>65535</td>\n",
       "    </tr>\n",
       "    <tr>\n",
       "      <th>3</th>\n",
       "      <td>563825</td>\n",
       "      <td>590074</td>\n",
       "      <td>590074</td>\n",
       "      <td>96</td>\n",
       "      <td>0</td>\n",
       "      <td>POINT Z (2480810.456 7448277.078 0.000)</td>\n",
       "      <td>96</td>\n",
       "      <td>43.696625</td>\n",
       "      <td>2</td>\n",
       "      <td>65535</td>\n",
       "    </tr>\n",
       "    <tr>\n",
       "      <th>4</th>\n",
       "      <td>563826</td>\n",
       "      <td>590075</td>\n",
       "      <td>590075</td>\n",
       "      <td>95</td>\n",
       "      <td>0</td>\n",
       "      <td>POINT Z (2480852.304 7448277.078 0.000)</td>\n",
       "      <td>95</td>\n",
       "      <td>1.184414</td>\n",
       "      <td>2</td>\n",
       "      <td>65535</td>\n",
       "    </tr>\n",
       "  </tbody>\n",
       "</table>\n",
       "</div>"
      ],
      "text/plain": [
       "   OBJECTID_1  OBJECTID  pointid  grid_code  Label  \\\n",
       "0      563822    590071   590071          0      0   \n",
       "1      563823    590072   590072          0      0   \n",
       "2      563824    590073   590073          0      0   \n",
       "3      563825    590074   590074         96      0   \n",
       "4      563826    590075   590075         95      0   \n",
       "\n",
       "                                  geometry  Elevation  \\\n",
       "0  POINT Z (2480684.910 7448277.078 0.000)          0   \n",
       "1  POINT Z (2480726.759 7448277.078 0.000)          0   \n",
       "2  POINT Z (2480768.607 7448277.078 0.000)          0   \n",
       "3  POINT Z (2480810.456 7448277.078 0.000)         96   \n",
       "4  POINT Z (2480852.304 7448277.078 0.000)         95   \n",
       "\n",
       "                                       Slope  Soils     Lc  \n",
       "0 -340282306073709652508363335590014353408.0      5  65535  \n",
       "1                                        0.0      5  65535  \n",
       "2                                  43.914688      2  65535  \n",
       "3                                  43.696625      2  65535  \n",
       "4                                   1.184414      2  65535  "
      ]
     },
     "execution_count": 28,
     "metadata": {},
     "output_type": "execute_result"
    }
   ],
   "source": [
    "df=pd.read_pickle(\"invents.pkl\") # in case of pickle\n",
    "df.head()"
   ]
  },
  {
   "cell_type": "code",
   "execution_count": null,
   "id": "5945068e",
   "metadata": {},
   "outputs": [],
   "source": [
    "# Import used packages\n",
    "import geopandas as gpd  # used to read the shapfile\n",
    "import rasterio as rio   # used to read the raster (.tif) files\n",
    "from rasterio.plot import show # used to make plots using rasterio\n",
    "import matplotlib.pyplot as plt #to make plots using matplotlib\n",
    "import pandas as pd\n",
    "import os"
   ]
  },
  {
   "cell_type": "code",
   "execution_count": null,
   "id": "cec739a1",
   "metadata": {},
   "outputs": [],
   "source": [
    "# Step 2: Set the working directory\n",
    "data_path = r'F:\\AcPro Basics\\Toronto White Cups\\Regression\\Data\\Data'\n",
    "os.chdir(data_path)"
   ]
  },
  {
   "cell_type": "code",
   "execution_count": null,
   "id": "05a5620e",
   "metadata": {},
   "outputs": [],
   "source": [
    "## import packages\n",
    "import numpy as np\n",
    "import pandas as pd\n",
    "from matplotlib import pyplot as plt\n",
    "import seaborn as sns\n",
    "import geopandas as gpd"
   ]
  },
  {
   "cell_type": "code",
   "execution_count": 7,
   "id": "e99e44ae",
   "metadata": {
    "scrolled": true
   },
   "outputs": [
    {
     "data": {
      "text/html": [
       "<div>\n",
       "<style scoped>\n",
       "    .dataframe tbody tr th:only-of-type {\n",
       "        vertical-align: middle;\n",
       "    }\n",
       "\n",
       "    .dataframe tbody tr th {\n",
       "        vertical-align: top;\n",
       "    }\n",
       "\n",
       "    .dataframe thead th {\n",
       "        text-align: right;\n",
       "    }\n",
       "</style>\n",
       "<table border=\"1\" class=\"dataframe\">\n",
       "  <thead>\n",
       "    <tr style=\"text-align: right;\">\n",
       "      <th></th>\n",
       "      <th>OBJECTID_1</th>\n",
       "      <th>OBJECTID</th>\n",
       "      <th>pointid</th>\n",
       "      <th>grid_code</th>\n",
       "      <th>Label</th>\n",
       "      <th>Elevation</th>\n",
       "      <th>Slope</th>\n",
       "      <th>Soils</th>\n",
       "      <th>Lc</th>\n",
       "      <th>geometry</th>\n",
       "    </tr>\n",
       "  </thead>\n",
       "  <tbody>\n",
       "    <tr>\n",
       "      <th>0</th>\n",
       "      <td>563822</td>\n",
       "      <td>590071</td>\n",
       "      <td>590071</td>\n",
       "      <td>0</td>\n",
       "      <td>0</td>\n",
       "      <td>0</td>\n",
       "      <td>-3.402823060737097e+38</td>\n",
       "      <td>5</td>\n",
       "      <td>65535</td>\n",
       "      <td>POINT Z (2480684.910 7448277.078 0.000)</td>\n",
       "    </tr>\n",
       "    <tr>\n",
       "      <th>1</th>\n",
       "      <td>563823</td>\n",
       "      <td>590072</td>\n",
       "      <td>590072</td>\n",
       "      <td>0</td>\n",
       "      <td>0</td>\n",
       "      <td>0</td>\n",
       "      <td>0</td>\n",
       "      <td>5</td>\n",
       "      <td>65535</td>\n",
       "      <td>POINT Z (2480726.759 7448277.078 0.000)</td>\n",
       "    </tr>\n",
       "    <tr>\n",
       "      <th>2</th>\n",
       "      <td>563824</td>\n",
       "      <td>590073</td>\n",
       "      <td>590073</td>\n",
       "      <td>0</td>\n",
       "      <td>0</td>\n",
       "      <td>0</td>\n",
       "      <td>43.91468811035156</td>\n",
       "      <td>2</td>\n",
       "      <td>65535</td>\n",
       "      <td>POINT Z (2480768.607 7448277.078 0.000)</td>\n",
       "    </tr>\n",
       "    <tr>\n",
       "      <th>3</th>\n",
       "      <td>563825</td>\n",
       "      <td>590074</td>\n",
       "      <td>590074</td>\n",
       "      <td>96</td>\n",
       "      <td>0</td>\n",
       "      <td>96</td>\n",
       "      <td>43.69662475585938</td>\n",
       "      <td>2</td>\n",
       "      <td>65535</td>\n",
       "      <td>POINT Z (2480810.456 7448277.078 0.000)</td>\n",
       "    </tr>\n",
       "    <tr>\n",
       "      <th>4</th>\n",
       "      <td>563826</td>\n",
       "      <td>590075</td>\n",
       "      <td>590075</td>\n",
       "      <td>95</td>\n",
       "      <td>0</td>\n",
       "      <td>95</td>\n",
       "      <td>1.18441379070282</td>\n",
       "      <td>2</td>\n",
       "      <td>65535</td>\n",
       "      <td>POINT Z (2480852.304 7448277.078 0.000)</td>\n",
       "    </tr>\n",
       "  </tbody>\n",
       "</table>\n",
       "</div>"
      ],
      "text/plain": [
       "   OBJECTID_1  OBJECTID  pointid  grid_code  Label  Elevation  \\\n",
       "0      563822    590071   590071          0      0          0   \n",
       "1      563823    590072   590072          0      0          0   \n",
       "2      563824    590073   590073          0      0          0   \n",
       "3      563825    590074   590074         96      0         96   \n",
       "4      563826    590075   590075         95      0         95   \n",
       "\n",
       "                    Slope  Soils     Lc  \\\n",
       "0  -3.402823060737097e+38      5  65535   \n",
       "1                       0      5  65535   \n",
       "2       43.91468811035156      2  65535   \n",
       "3       43.69662475585938      2  65535   \n",
       "4        1.18441379070282      2  65535   \n",
       "\n",
       "                                  geometry  \n",
       "0  POINT Z (2480684.910 7448277.078 0.000)  \n",
       "1  POINT Z (2480726.759 7448277.078 0.000)  \n",
       "2  POINT Z (2480768.607 7448277.078 0.000)  \n",
       "3  POINT Z (2480810.456 7448277.078 0.000)  \n",
       "4  POINT Z (2480852.304 7448277.078 0.000)  "
      ]
     },
     "execution_count": 7,
     "metadata": {},
     "output_type": "execute_result"
    }
   ],
   "source": [
    "# Read the shapefile or pickle which we created in last article\n",
    "df=gpd.read_file(\"invents.shp\")\n",
    "# df=pd.read_pickle(\"points_data.pkl\") # in case of pickle\n",
    "df.head()"
   ]
  },
  {
   "cell_type": "code",
   "execution_count": 8,
   "id": "58accb88",
   "metadata": {},
   "outputs": [
    {
     "name": "stdout",
     "output_type": "stream",
     "text": [
      "   Label  Elevation                   Slope  Soils     Lc  \\\n",
      "0      0          0  -3.402823060737097e+38      5  65535   \n",
      "1      0          0                       0      5  65535   \n",
      "2      0          0       43.91468811035156      2  65535   \n",
      "3      0         96       43.69662475585938      2  65535   \n",
      "4      0         95        1.18441379070282      2  65535   \n",
      "\n",
      "                                  geometry  \n",
      "0  POINT Z (2480684.910 7448277.078 0.000)  \n",
      "1  POINT Z (2480726.759 7448277.078 0.000)  \n",
      "2  POINT Z (2480768.607 7448277.078 0.000)  \n",
      "3  POINT Z (2480810.456 7448277.078 0.000)  \n",
      "4  POINT Z (2480852.304 7448277.078 0.000)  \n"
     ]
    }
   ],
   "source": [
    "# Specify columns to drop\n",
    "columns_to_drop = ['OBJECTID_1', 'OBJECTID', 'pointid', 'grid_code']\n",
    "\n",
    "# Drop the specified columns\n",
    "df = df.drop(columns=columns_to_drop)\n",
    "\n",
    "# Print the updated DataFrame\n",
    "print(df.head())\n"
   ]
  },
  {
   "cell_type": "code",
   "execution_count": 9,
   "id": "e477d8de",
   "metadata": {},
   "outputs": [
    {
     "name": "stdout",
     "output_type": "stream",
     "text": [
      "              count         mean           std   min   25%   50%    75%  \\\n",
      "Label      921777.0     0.276224      0.447129   0.0   0.0   0.0    1.0   \n",
      "Elevation  921777.0    41.158801     38.839014  -4.0   6.0  33.0   64.0   \n",
      "Soils      921777.0     6.775254      8.097473   1.0   3.0   7.0    8.0   \n",
      "Lc         921777.0  4859.511287  16979.456321  10.0  90.0  90.0  190.0   \n",
      "\n",
      "               max  \n",
      "Label          1.0  \n",
      "Elevation    186.0  \n",
      "Soils        127.0  \n",
      "Lc         65535.0  \n"
     ]
    }
   ],
   "source": [
    "print(df.describe().T)  #Values are already normalized in GIS before fitting. "
   ]
  },
  {
   "cell_type": "code",
   "execution_count": 10,
   "id": "3d2eea9d",
   "metadata": {},
   "outputs": [
    {
     "name": "stdout",
     "output_type": "stream",
     "text": [
      "Label        0\n",
      "Elevation    0\n",
      "Slope        0\n",
      "Soils        0\n",
      "Lc           0\n",
      "geometry     0\n",
      "dtype: int64\n"
     ]
    }
   ],
   "source": [
    "## Check if there is null values\n",
    "print(df.isnull().sum())\n",
    "#df = df.dropna()"
   ]
  },
  {
   "cell_type": "code",
   "execution_count": 11,
   "id": "2d30fec7",
   "metadata": {},
   "outputs": [
    {
     "name": "stdout",
     "output_type": "stream",
     "text": [
      "Label           int64\n",
      "Elevation       int64\n",
      "Slope          object\n",
      "Soils           int64\n",
      "Lc              int64\n",
      "geometry     geometry\n",
      "dtype: object\n"
     ]
    }
   ],
   "source": [
    "#df = df.rename(columns={'Id':'Label'})\n",
    "print(df.dtypes)"
   ]
  },
  {
   "cell_type": "code",
   "execution_count": 12,
   "id": "46bf2cf2",
   "metadata": {},
   "outputs": [],
   "source": [
    "#Define the dependent variable that needs to be predicted (labels)\n",
    "Y = df[\"Label\"].values"
   ]
  },
  {
   "cell_type": "code",
   "execution_count": 13,
   "id": "4bcc0b4e",
   "metadata": {},
   "outputs": [],
   "source": [
    "#Define the independent variables. \n",
    "X = df.drop(labels = [\"Label\",'geometry'], axis=1) \n",
    "features_list = list(X.columns)  #List features so we can rank them later.\n",
    "#from sklearn.preprocessing import normalize\n",
    "# Only needed if the data was not normalized\n",
    "#X = normalize(X, axis=1)"
   ]
  },
  {
   "cell_type": "code",
   "execution_count": 14,
   "id": "e4665125",
   "metadata": {},
   "outputs": [
    {
     "data": {
      "text/html": [
       "<div>\n",
       "<style scoped>\n",
       "    .dataframe tbody tr th:only-of-type {\n",
       "        vertical-align: middle;\n",
       "    }\n",
       "\n",
       "    .dataframe tbody tr th {\n",
       "        vertical-align: top;\n",
       "    }\n",
       "\n",
       "    .dataframe thead th {\n",
       "        text-align: right;\n",
       "    }\n",
       "</style>\n",
       "<table border=\"1\" class=\"dataframe\">\n",
       "  <thead>\n",
       "    <tr style=\"text-align: right;\">\n",
       "      <th></th>\n",
       "      <th>Elevation</th>\n",
       "      <th>Slope</th>\n",
       "      <th>Soils</th>\n",
       "      <th>Lc</th>\n",
       "    </tr>\n",
       "  </thead>\n",
       "  <tbody>\n",
       "    <tr>\n",
       "      <th>0</th>\n",
       "      <td>0</td>\n",
       "      <td>-3.402823060737097e+38</td>\n",
       "      <td>5</td>\n",
       "      <td>65535</td>\n",
       "    </tr>\n",
       "    <tr>\n",
       "      <th>1</th>\n",
       "      <td>0</td>\n",
       "      <td>0</td>\n",
       "      <td>5</td>\n",
       "      <td>65535</td>\n",
       "    </tr>\n",
       "    <tr>\n",
       "      <th>2</th>\n",
       "      <td>0</td>\n",
       "      <td>43.91468811035156</td>\n",
       "      <td>2</td>\n",
       "      <td>65535</td>\n",
       "    </tr>\n",
       "    <tr>\n",
       "      <th>3</th>\n",
       "      <td>96</td>\n",
       "      <td>43.69662475585938</td>\n",
       "      <td>2</td>\n",
       "      <td>65535</td>\n",
       "    </tr>\n",
       "    <tr>\n",
       "      <th>4</th>\n",
       "      <td>95</td>\n",
       "      <td>1.18441379070282</td>\n",
       "      <td>2</td>\n",
       "      <td>65535</td>\n",
       "    </tr>\n",
       "    <tr>\n",
       "      <th>...</th>\n",
       "      <td>...</td>\n",
       "      <td>...</td>\n",
       "      <td>...</td>\n",
       "      <td>...</td>\n",
       "    </tr>\n",
       "    <tr>\n",
       "      <th>921772</th>\n",
       "      <td>0</td>\n",
       "      <td>0</td>\n",
       "      <td>18</td>\n",
       "      <td>90</td>\n",
       "    </tr>\n",
       "    <tr>\n",
       "      <th>921773</th>\n",
       "      <td>0</td>\n",
       "      <td>0</td>\n",
       "      <td>18</td>\n",
       "      <td>90</td>\n",
       "    </tr>\n",
       "    <tr>\n",
       "      <th>921774</th>\n",
       "      <td>0</td>\n",
       "      <td>1.872322678565979</td>\n",
       "      <td>18</td>\n",
       "      <td>90</td>\n",
       "    </tr>\n",
       "    <tr>\n",
       "      <th>921775</th>\n",
       "      <td>11</td>\n",
       "      <td>6.301669120788574</td>\n",
       "      <td>18</td>\n",
       "      <td>90</td>\n",
       "    </tr>\n",
       "    <tr>\n",
       "      <th>921776</th>\n",
       "      <td>14</td>\n",
       "      <td>3.449448347091675</td>\n",
       "      <td>18</td>\n",
       "      <td>90</td>\n",
       "    </tr>\n",
       "  </tbody>\n",
       "</table>\n",
       "<p>921777 rows × 4 columns</p>\n",
       "</div>"
      ],
      "text/plain": [
       "        Elevation                   Slope  Soils     Lc\n",
       "0               0  -3.402823060737097e+38      5  65535\n",
       "1               0                       0      5  65535\n",
       "2               0       43.91468811035156      2  65535\n",
       "3              96       43.69662475585938      2  65535\n",
       "4              95        1.18441379070282      2  65535\n",
       "...           ...                     ...    ...    ...\n",
       "921772          0                       0     18     90\n",
       "921773          0                       0     18     90\n",
       "921774          0       1.872322678565979     18     90\n",
       "921775         11       6.301669120788574     18     90\n",
       "921776         14       3.449448347091675     18     90\n",
       "\n",
       "[921777 rows x 4 columns]"
      ]
     },
     "execution_count": 14,
     "metadata": {},
     "output_type": "execute_result"
    }
   ],
   "source": [
    "# the independent variables\n",
    "X"
   ]
  },
  {
   "cell_type": "code",
   "execution_count": 15,
   "id": "07ef810e",
   "metadata": {},
   "outputs": [
    {
     "data": {
      "text/plain": [
       "array([0, 0, 0, ..., 1, 1, 1], dtype=int64)"
      ]
     },
     "execution_count": 15,
     "metadata": {},
     "output_type": "execute_result"
    }
   ],
   "source": [
    "# the dependent variable\n",
    "Y"
   ]
  },
  {
   "cell_type": "code",
   "execution_count": 16,
   "id": "1a3ab679",
   "metadata": {},
   "outputs": [],
   "source": [
    "#Split data into train, validation and test to verify accuracy after fitting the model. \n",
    "# Firstly split the data into train_validation and test datasets then split the train_validation dataset into train and validation datasets.\n",
    "# The training dataset is used to train the model, the validation dataset is used for hyperparamter tuning and the testing dataset is used to test the model.\n",
    "# It is recommended to test the model with a data that the model hasn't seen in the training process\n",
    "from sklearn.model_selection import train_test_split\n",
    "X_train_val, X_test, y_train_val, y_test = train_test_split(X, Y, test_size=0.2,shuffle=True, random_state=42)\n"
   ]
  },
  {
   "cell_type": "markdown",
   "id": "d95c5790",
   "metadata": {},
   "source": [
    "# f) Any hyper-parameterization"
   ]
  },
  {
   "cell_type": "code",
   "execution_count": 17,
   "id": "3571515c",
   "metadata": {},
   "outputs": [],
   "source": [
    "X_train, X_val, y_train, y_val = train_test_split(X_train_val, y_train_val, test_size=0.25,shuffle=True, random_state=42)"
   ]
  },
  {
   "cell_type": "markdown",
   "id": "a831bc0b",
   "metadata": {},
   "source": [
    "# f) Running the algorithm "
   ]
  },
  {
   "cell_type": "code",
   "execution_count": 18,
   "id": "117c9672",
   "metadata": {},
   "outputs": [],
   "source": [
    "#RANDOM FOREST\n",
    "from sklearn.ensemble import RandomForestClassifier\n",
    "model = RandomForestClassifier(random_state = 42)"
   ]
  },
  {
   "cell_type": "code",
   "execution_count": 19,
   "id": "1dc2ed73",
   "metadata": {
    "scrolled": true
   },
   "outputs": [
    {
     "data": {
      "text/html": [
       "<style>#sk-container-id-1 {\n",
       "  /* Definition of color scheme common for light and dark mode */\n",
       "  --sklearn-color-text: black;\n",
       "  --sklearn-color-line: gray;\n",
       "  /* Definition of color scheme for unfitted estimators */\n",
       "  --sklearn-color-unfitted-level-0: #fff5e6;\n",
       "  --sklearn-color-unfitted-level-1: #f6e4d2;\n",
       "  --sklearn-color-unfitted-level-2: #ffe0b3;\n",
       "  --sklearn-color-unfitted-level-3: chocolate;\n",
       "  /* Definition of color scheme for fitted estimators */\n",
       "  --sklearn-color-fitted-level-0: #f0f8ff;\n",
       "  --sklearn-color-fitted-level-1: #d4ebff;\n",
       "  --sklearn-color-fitted-level-2: #b3dbfd;\n",
       "  --sklearn-color-fitted-level-3: cornflowerblue;\n",
       "\n",
       "  /* Specific color for light theme */\n",
       "  --sklearn-color-text-on-default-background: var(--sg-text-color, var(--theme-code-foreground, var(--jp-content-font-color1, black)));\n",
       "  --sklearn-color-background: var(--sg-background-color, var(--theme-background, var(--jp-layout-color0, white)));\n",
       "  --sklearn-color-border-box: var(--sg-text-color, var(--theme-code-foreground, var(--jp-content-font-color1, black)));\n",
       "  --sklearn-color-icon: #696969;\n",
       "\n",
       "  @media (prefers-color-scheme: dark) {\n",
       "    /* Redefinition of color scheme for dark theme */\n",
       "    --sklearn-color-text-on-default-background: var(--sg-text-color, var(--theme-code-foreground, var(--jp-content-font-color1, white)));\n",
       "    --sklearn-color-background: var(--sg-background-color, var(--theme-background, var(--jp-layout-color0, #111)));\n",
       "    --sklearn-color-border-box: var(--sg-text-color, var(--theme-code-foreground, var(--jp-content-font-color1, white)));\n",
       "    --sklearn-color-icon: #878787;\n",
       "  }\n",
       "}\n",
       "\n",
       "#sk-container-id-1 {\n",
       "  color: var(--sklearn-color-text);\n",
       "}\n",
       "\n",
       "#sk-container-id-1 pre {\n",
       "  padding: 0;\n",
       "}\n",
       "\n",
       "#sk-container-id-1 input.sk-hidden--visually {\n",
       "  border: 0;\n",
       "  clip: rect(1px 1px 1px 1px);\n",
       "  clip: rect(1px, 1px, 1px, 1px);\n",
       "  height: 1px;\n",
       "  margin: -1px;\n",
       "  overflow: hidden;\n",
       "  padding: 0;\n",
       "  position: absolute;\n",
       "  width: 1px;\n",
       "}\n",
       "\n",
       "#sk-container-id-1 div.sk-dashed-wrapped {\n",
       "  border: 1px dashed var(--sklearn-color-line);\n",
       "  margin: 0 0.4em 0.5em 0.4em;\n",
       "  box-sizing: border-box;\n",
       "  padding-bottom: 0.4em;\n",
       "  background-color: var(--sklearn-color-background);\n",
       "}\n",
       "\n",
       "#sk-container-id-1 div.sk-container {\n",
       "  /* jupyter's `normalize.less` sets `[hidden] { display: none; }`\n",
       "     but bootstrap.min.css set `[hidden] { display: none !important; }`\n",
       "     so we also need the `!important` here to be able to override the\n",
       "     default hidden behavior on the sphinx rendered scikit-learn.org.\n",
       "     See: https://github.com/scikit-learn/scikit-learn/issues/21755 */\n",
       "  display: inline-block !important;\n",
       "  position: relative;\n",
       "}\n",
       "\n",
       "#sk-container-id-1 div.sk-text-repr-fallback {\n",
       "  display: none;\n",
       "}\n",
       "\n",
       "div.sk-parallel-item,\n",
       "div.sk-serial,\n",
       "div.sk-item {\n",
       "  /* draw centered vertical line to link estimators */\n",
       "  background-image: linear-gradient(var(--sklearn-color-text-on-default-background), var(--sklearn-color-text-on-default-background));\n",
       "  background-size: 2px 100%;\n",
       "  background-repeat: no-repeat;\n",
       "  background-position: center center;\n",
       "}\n",
       "\n",
       "/* Parallel-specific style estimator block */\n",
       "\n",
       "#sk-container-id-1 div.sk-parallel-item::after {\n",
       "  content: \"\";\n",
       "  width: 100%;\n",
       "  border-bottom: 2px solid var(--sklearn-color-text-on-default-background);\n",
       "  flex-grow: 1;\n",
       "}\n",
       "\n",
       "#sk-container-id-1 div.sk-parallel {\n",
       "  display: flex;\n",
       "  align-items: stretch;\n",
       "  justify-content: center;\n",
       "  background-color: var(--sklearn-color-background);\n",
       "  position: relative;\n",
       "}\n",
       "\n",
       "#sk-container-id-1 div.sk-parallel-item {\n",
       "  display: flex;\n",
       "  flex-direction: column;\n",
       "}\n",
       "\n",
       "#sk-container-id-1 div.sk-parallel-item:first-child::after {\n",
       "  align-self: flex-end;\n",
       "  width: 50%;\n",
       "}\n",
       "\n",
       "#sk-container-id-1 div.sk-parallel-item:last-child::after {\n",
       "  align-self: flex-start;\n",
       "  width: 50%;\n",
       "}\n",
       "\n",
       "#sk-container-id-1 div.sk-parallel-item:only-child::after {\n",
       "  width: 0;\n",
       "}\n",
       "\n",
       "/* Serial-specific style estimator block */\n",
       "\n",
       "#sk-container-id-1 div.sk-serial {\n",
       "  display: flex;\n",
       "  flex-direction: column;\n",
       "  align-items: center;\n",
       "  background-color: var(--sklearn-color-background);\n",
       "  padding-right: 1em;\n",
       "  padding-left: 1em;\n",
       "}\n",
       "\n",
       "\n",
       "/* Toggleable style: style used for estimator/Pipeline/ColumnTransformer box that is\n",
       "clickable and can be expanded/collapsed.\n",
       "- Pipeline and ColumnTransformer use this feature and define the default style\n",
       "- Estimators will overwrite some part of the style using the `sk-estimator` class\n",
       "*/\n",
       "\n",
       "/* Pipeline and ColumnTransformer style (default) */\n",
       "\n",
       "#sk-container-id-1 div.sk-toggleable {\n",
       "  /* Default theme specific background. It is overwritten whether we have a\n",
       "  specific estimator or a Pipeline/ColumnTransformer */\n",
       "  background-color: var(--sklearn-color-background);\n",
       "}\n",
       "\n",
       "/* Toggleable label */\n",
       "#sk-container-id-1 label.sk-toggleable__label {\n",
       "  cursor: pointer;\n",
       "  display: block;\n",
       "  width: 100%;\n",
       "  margin-bottom: 0;\n",
       "  padding: 0.5em;\n",
       "  box-sizing: border-box;\n",
       "  text-align: center;\n",
       "}\n",
       "\n",
       "#sk-container-id-1 label.sk-toggleable__label-arrow:before {\n",
       "  /* Arrow on the left of the label */\n",
       "  content: \"▸\";\n",
       "  float: left;\n",
       "  margin-right: 0.25em;\n",
       "  color: var(--sklearn-color-icon);\n",
       "}\n",
       "\n",
       "#sk-container-id-1 label.sk-toggleable__label-arrow:hover:before {\n",
       "  color: var(--sklearn-color-text);\n",
       "}\n",
       "\n",
       "/* Toggleable content - dropdown */\n",
       "\n",
       "#sk-container-id-1 div.sk-toggleable__content {\n",
       "  max-height: 0;\n",
       "  max-width: 0;\n",
       "  overflow: hidden;\n",
       "  text-align: left;\n",
       "  /* unfitted */\n",
       "  background-color: var(--sklearn-color-unfitted-level-0);\n",
       "}\n",
       "\n",
       "#sk-container-id-1 div.sk-toggleable__content.fitted {\n",
       "  /* fitted */\n",
       "  background-color: var(--sklearn-color-fitted-level-0);\n",
       "}\n",
       "\n",
       "#sk-container-id-1 div.sk-toggleable__content pre {\n",
       "  margin: 0.2em;\n",
       "  border-radius: 0.25em;\n",
       "  color: var(--sklearn-color-text);\n",
       "  /* unfitted */\n",
       "  background-color: var(--sklearn-color-unfitted-level-0);\n",
       "}\n",
       "\n",
       "#sk-container-id-1 div.sk-toggleable__content.fitted pre {\n",
       "  /* unfitted */\n",
       "  background-color: var(--sklearn-color-fitted-level-0);\n",
       "}\n",
       "\n",
       "#sk-container-id-1 input.sk-toggleable__control:checked~div.sk-toggleable__content {\n",
       "  /* Expand drop-down */\n",
       "  max-height: 200px;\n",
       "  max-width: 100%;\n",
       "  overflow: auto;\n",
       "}\n",
       "\n",
       "#sk-container-id-1 input.sk-toggleable__control:checked~label.sk-toggleable__label-arrow:before {\n",
       "  content: \"▾\";\n",
       "}\n",
       "\n",
       "/* Pipeline/ColumnTransformer-specific style */\n",
       "\n",
       "#sk-container-id-1 div.sk-label input.sk-toggleable__control:checked~label.sk-toggleable__label {\n",
       "  color: var(--sklearn-color-text);\n",
       "  background-color: var(--sklearn-color-unfitted-level-2);\n",
       "}\n",
       "\n",
       "#sk-container-id-1 div.sk-label.fitted input.sk-toggleable__control:checked~label.sk-toggleable__label {\n",
       "  background-color: var(--sklearn-color-fitted-level-2);\n",
       "}\n",
       "\n",
       "/* Estimator-specific style */\n",
       "\n",
       "/* Colorize estimator box */\n",
       "#sk-container-id-1 div.sk-estimator input.sk-toggleable__control:checked~label.sk-toggleable__label {\n",
       "  /* unfitted */\n",
       "  background-color: var(--sklearn-color-unfitted-level-2);\n",
       "}\n",
       "\n",
       "#sk-container-id-1 div.sk-estimator.fitted input.sk-toggleable__control:checked~label.sk-toggleable__label {\n",
       "  /* fitted */\n",
       "  background-color: var(--sklearn-color-fitted-level-2);\n",
       "}\n",
       "\n",
       "#sk-container-id-1 div.sk-label label.sk-toggleable__label,\n",
       "#sk-container-id-1 div.sk-label label {\n",
       "  /* The background is the default theme color */\n",
       "  color: var(--sklearn-color-text-on-default-background);\n",
       "}\n",
       "\n",
       "/* On hover, darken the color of the background */\n",
       "#sk-container-id-1 div.sk-label:hover label.sk-toggleable__label {\n",
       "  color: var(--sklearn-color-text);\n",
       "  background-color: var(--sklearn-color-unfitted-level-2);\n",
       "}\n",
       "\n",
       "/* Label box, darken color on hover, fitted */\n",
       "#sk-container-id-1 div.sk-label.fitted:hover label.sk-toggleable__label.fitted {\n",
       "  color: var(--sklearn-color-text);\n",
       "  background-color: var(--sklearn-color-fitted-level-2);\n",
       "}\n",
       "\n",
       "/* Estimator label */\n",
       "\n",
       "#sk-container-id-1 div.sk-label label {\n",
       "  font-family: monospace;\n",
       "  font-weight: bold;\n",
       "  display: inline-block;\n",
       "  line-height: 1.2em;\n",
       "}\n",
       "\n",
       "#sk-container-id-1 div.sk-label-container {\n",
       "  text-align: center;\n",
       "}\n",
       "\n",
       "/* Estimator-specific */\n",
       "#sk-container-id-1 div.sk-estimator {\n",
       "  font-family: monospace;\n",
       "  border: 1px dotted var(--sklearn-color-border-box);\n",
       "  border-radius: 0.25em;\n",
       "  box-sizing: border-box;\n",
       "  margin-bottom: 0.5em;\n",
       "  /* unfitted */\n",
       "  background-color: var(--sklearn-color-unfitted-level-0);\n",
       "}\n",
       "\n",
       "#sk-container-id-1 div.sk-estimator.fitted {\n",
       "  /* fitted */\n",
       "  background-color: var(--sklearn-color-fitted-level-0);\n",
       "}\n",
       "\n",
       "/* on hover */\n",
       "#sk-container-id-1 div.sk-estimator:hover {\n",
       "  /* unfitted */\n",
       "  background-color: var(--sklearn-color-unfitted-level-2);\n",
       "}\n",
       "\n",
       "#sk-container-id-1 div.sk-estimator.fitted:hover {\n",
       "  /* fitted */\n",
       "  background-color: var(--sklearn-color-fitted-level-2);\n",
       "}\n",
       "\n",
       "/* Specification for estimator info (e.g. \"i\" and \"?\") */\n",
       "\n",
       "/* Common style for \"i\" and \"?\" */\n",
       "\n",
       ".sk-estimator-doc-link,\n",
       "a:link.sk-estimator-doc-link,\n",
       "a:visited.sk-estimator-doc-link {\n",
       "  float: right;\n",
       "  font-size: smaller;\n",
       "  line-height: 1em;\n",
       "  font-family: monospace;\n",
       "  background-color: var(--sklearn-color-background);\n",
       "  border-radius: 1em;\n",
       "  height: 1em;\n",
       "  width: 1em;\n",
       "  text-decoration: none !important;\n",
       "  margin-left: 1ex;\n",
       "  /* unfitted */\n",
       "  border: var(--sklearn-color-unfitted-level-1) 1pt solid;\n",
       "  color: var(--sklearn-color-unfitted-level-1);\n",
       "}\n",
       "\n",
       ".sk-estimator-doc-link.fitted,\n",
       "a:link.sk-estimator-doc-link.fitted,\n",
       "a:visited.sk-estimator-doc-link.fitted {\n",
       "  /* fitted */\n",
       "  border: var(--sklearn-color-fitted-level-1) 1pt solid;\n",
       "  color: var(--sklearn-color-fitted-level-1);\n",
       "}\n",
       "\n",
       "/* On hover */\n",
       "div.sk-estimator:hover .sk-estimator-doc-link:hover,\n",
       ".sk-estimator-doc-link:hover,\n",
       "div.sk-label-container:hover .sk-estimator-doc-link:hover,\n",
       ".sk-estimator-doc-link:hover {\n",
       "  /* unfitted */\n",
       "  background-color: var(--sklearn-color-unfitted-level-3);\n",
       "  color: var(--sklearn-color-background);\n",
       "  text-decoration: none;\n",
       "}\n",
       "\n",
       "div.sk-estimator.fitted:hover .sk-estimator-doc-link.fitted:hover,\n",
       ".sk-estimator-doc-link.fitted:hover,\n",
       "div.sk-label-container:hover .sk-estimator-doc-link.fitted:hover,\n",
       ".sk-estimator-doc-link.fitted:hover {\n",
       "  /* fitted */\n",
       "  background-color: var(--sklearn-color-fitted-level-3);\n",
       "  color: var(--sklearn-color-background);\n",
       "  text-decoration: none;\n",
       "}\n",
       "\n",
       "/* Span, style for the box shown on hovering the info icon */\n",
       ".sk-estimator-doc-link span {\n",
       "  display: none;\n",
       "  z-index: 9999;\n",
       "  position: relative;\n",
       "  font-weight: normal;\n",
       "  right: .2ex;\n",
       "  padding: .5ex;\n",
       "  margin: .5ex;\n",
       "  width: min-content;\n",
       "  min-width: 20ex;\n",
       "  max-width: 50ex;\n",
       "  color: var(--sklearn-color-text);\n",
       "  box-shadow: 2pt 2pt 4pt #999;\n",
       "  /* unfitted */\n",
       "  background: var(--sklearn-color-unfitted-level-0);\n",
       "  border: .5pt solid var(--sklearn-color-unfitted-level-3);\n",
       "}\n",
       "\n",
       ".sk-estimator-doc-link.fitted span {\n",
       "  /* fitted */\n",
       "  background: var(--sklearn-color-fitted-level-0);\n",
       "  border: var(--sklearn-color-fitted-level-3);\n",
       "}\n",
       "\n",
       ".sk-estimator-doc-link:hover span {\n",
       "  display: block;\n",
       "}\n",
       "\n",
       "/* \"?\"-specific style due to the `<a>` HTML tag */\n",
       "\n",
       "#sk-container-id-1 a.estimator_doc_link {\n",
       "  float: right;\n",
       "  font-size: 1rem;\n",
       "  line-height: 1em;\n",
       "  font-family: monospace;\n",
       "  background-color: var(--sklearn-color-background);\n",
       "  border-radius: 1rem;\n",
       "  height: 1rem;\n",
       "  width: 1rem;\n",
       "  text-decoration: none;\n",
       "  /* unfitted */\n",
       "  color: var(--sklearn-color-unfitted-level-1);\n",
       "  border: var(--sklearn-color-unfitted-level-1) 1pt solid;\n",
       "}\n",
       "\n",
       "#sk-container-id-1 a.estimator_doc_link.fitted {\n",
       "  /* fitted */\n",
       "  border: var(--sklearn-color-fitted-level-1) 1pt solid;\n",
       "  color: var(--sklearn-color-fitted-level-1);\n",
       "}\n",
       "\n",
       "/* On hover */\n",
       "#sk-container-id-1 a.estimator_doc_link:hover {\n",
       "  /* unfitted */\n",
       "  background-color: var(--sklearn-color-unfitted-level-3);\n",
       "  color: var(--sklearn-color-background);\n",
       "  text-decoration: none;\n",
       "}\n",
       "\n",
       "#sk-container-id-1 a.estimator_doc_link.fitted:hover {\n",
       "  /* fitted */\n",
       "  background-color: var(--sklearn-color-fitted-level-3);\n",
       "}\n",
       "</style><div id=\"sk-container-id-1\" class=\"sk-top-container\"><div class=\"sk-text-repr-fallback\"><pre>RandomForestClassifier(random_state=42)</pre><b>In a Jupyter environment, please rerun this cell to show the HTML representation or trust the notebook. <br />On GitHub, the HTML representation is unable to render, please try loading this page with nbviewer.org.</b></div><div class=\"sk-container\" hidden><div class=\"sk-item\"><div class=\"sk-estimator fitted sk-toggleable\"><input class=\"sk-toggleable__control sk-hidden--visually\" id=\"sk-estimator-id-1\" type=\"checkbox\" checked><label for=\"sk-estimator-id-1\" class=\"sk-toggleable__label fitted sk-toggleable__label-arrow fitted\">&nbsp;&nbsp;RandomForestClassifier<a class=\"sk-estimator-doc-link fitted\" rel=\"noreferrer\" target=\"_blank\" href=\"https://scikit-learn.org/1.4/modules/generated/sklearn.ensemble.RandomForestClassifier.html\">?<span>Documentation for RandomForestClassifier</span></a><span class=\"sk-estimator-doc-link fitted\">i<span>Fitted</span></span></label><div class=\"sk-toggleable__content fitted\"><pre>RandomForestClassifier(random_state=42)</pre></div> </div></div></div></div>"
      ],
      "text/plain": [
       "RandomForestClassifier(random_state=42)"
      ]
     },
     "execution_count": 19,
     "metadata": {},
     "output_type": "execute_result"
    }
   ],
   "source": [
    "# Train the model on training data\n",
    "model.fit(X_train, y_train)"
   ]
  },
  {
   "cell_type": "code",
   "execution_count": 20,
   "id": "fa8bcc90",
   "metadata": {},
   "outputs": [],
   "source": [
    "# Model prediction\n",
    "prediction = model.predict(X_test)"
   ]
  },
  {
   "cell_type": "code",
   "execution_count": 21,
   "id": "3a0ca740",
   "metadata": {},
   "outputs": [
    {
     "data": {
      "text/plain": [
       "array([0, 0, 0, ..., 0, 0, 0], dtype=int64)"
      ]
     },
     "execution_count": 21,
     "metadata": {},
     "output_type": "execute_result"
    }
   ],
   "source": [
    "# Prediction are 1 (Flooded) and 0 (Not flooded)\n",
    "prediction "
   ]
  },
  {
   "cell_type": "markdown",
   "id": "803d6ddc",
   "metadata": {},
   "source": [
    "# g) Evaluation of the results – include accuracy, ROC-AUC, and at least one other measure from the\n",
    "# confusion matrix and explain what they represent"
   ]
  },
  {
   "cell_type": "code",
   "execution_count": 22,
   "id": "20583cf1",
   "metadata": {},
   "outputs": [
    {
     "data": {
      "image/png": "[encoded data removed]",
      "text/plain": [
       "<Figure size 640x480 with 1 Axes>"
      ]
     },
     "metadata": {},
     "output_type": "display_data"
    }
   ],
   "source": [
    "from sklearn.metrics import roc_curve, auc\n",
    "import matplotlib.pyplot as plt\n",
    "\n",
    "# Assuming 'model' is your classifier and 'X_test', 'y_test' are your test data\n",
    "y_score = model.predict_proba(X_test)[:, 1]\n",
    "fpr, tpr, _ = roc_curve(y_test, y_score)\n",
    "roc_auc = auc(fpr, tpr)\n",
    "\n",
    "# Plot ROC curve\n",
    "plt.figure()\n",
    "lw = 2\n",
    "plt.plot(fpr, tpr, color='darkorange', lw=lw, label='ROC curve (area = {:.2f})'.format(roc_auc))\n",
    "plt.plot([0, 1], [0, 1], color='navy', lw=lw, linestyle='--')\n",
    "plt.xlim([0.0, 1.0])\n",
    "plt.ylim([0.0, 1.05])\n",
    "plt.xlabel('False Positive Rate')\n",
    "plt.ylabel('True Positive Rate')\n",
    "plt.title('Receiver Operating Characteristic (ROC) Curve')\n",
    "plt.legend(loc='lower right')\n",
    "plt.show()\n"
   ]
  },
  {
   "cell_type": "code",
   "execution_count": 23,
   "id": "15461170",
   "metadata": {},
   "outputs": [],
   "source": [
    "# In order to map the flood susceptibility, we need to predict the flood susceptibility (probability between 0 and 1)\n",
    "prediction_prob=model.predict_proba(X_test)"
   ]
  },
  {
   "cell_type": "code",
   "execution_count": 24,
   "id": "2c630e61",
   "metadata": {},
   "outputs": [
    {
     "data": {
      "text/plain": [
       "array([[1., 0.],\n",
       "       [1., 0.],\n",
       "       [1., 0.],\n",
       "       ...,\n",
       "       [1., 0.],\n",
       "       [1., 0.],\n",
       "       [1., 0.]])"
      ]
     },
     "execution_count": 24,
     "metadata": {},
     "output_type": "execute_result"
    }
   ],
   "source": [
    "# The probability of being not flooded and flooded for every location ( Their summation equals 1)\n",
    "prediction_prob"
   ]
  },
  {
   "cell_type": "code",
   "execution_count": 25,
   "id": "6c34aeff",
   "metadata": {},
   "outputs": [
    {
     "data": {
      "text/plain": [
       "(184356,)"
      ]
     },
     "execution_count": 25,
     "metadata": {},
     "output_type": "execute_result"
    }
   ],
   "source": [
    "ls=prediction_prob[:,1]\n",
    "ls.shape"
   ]
  },
  {
   "cell_type": "code",
   "execution_count": 26,
   "id": "dc0cbd87",
   "metadata": {},
   "outputs": [
    {
     "name": "stdout",
     "output_type": "stream",
     "text": [
      "              precision    recall  f1-score\n",
      "Not Flooded    0.978204  0.972699  0.975444\n",
      "Flooded        0.929494  0.943203  0.936298\n",
      "accuracy       0.964552  0.964552  0.964552\n",
      "macro avg      0.953849  0.957951  0.955871\n",
      "weighted avg   0.964751  0.964552  0.964632\n"
     ]
    }
   ],
   "source": [
    "# As flood susceptibility is classification problem (flooded or not flooded), we can calculate some additional performance indices\n",
    "#from sklearn.metrics import classification_report\n",
    "#target_names=[\"Not Flooded\",\"Flooded\"]\n",
    "#print(classification_report(y_test, prediction, target_names=target_names))\n",
    "\n",
    "\n",
    "from sklearn.metrics import classification_report\n",
    "import pandas as pd\n",
    "target_names=[\"Not Flooded\",\"Flooded\"]\n",
    "# Your classification report\n",
    "class_report = classification_report(y_test, prediction, target_names=target_names, output_dict=True)\n",
    "\n",
    "# Convert the classification report to a Pandas DataFrame\n",
    "df_class_report = pd.DataFrame(class_report).transpose()\n",
    "\n",
    "# Drop the 'support' column\n",
    "df_class_report.drop('support', axis=1, inplace=True)\n",
    "\n",
    "# Print the modified classification report\n",
    "print(df_class_report)"
   ]
  },
  {
   "cell_type": "code",
   "execution_count": 27,
   "id": "9eda8598",
   "metadata": {},
   "outputs": [
    {
     "name": "stdout",
     "output_type": "stream",
     "text": [
      "0.9117436650959871\n"
     ]
    }
   ],
   "source": [
    "from sklearn.metrics import cohen_kappa_score\n",
    "print(cohen_kappa_score(y_test, prediction))"
   ]
  },
  {
   "cell_type": "code",
   "execution_count": 28,
   "id": "04fd9560",
   "metadata": {},
   "outputs": [
    {
     "name": "stdout",
     "output_type": "stream",
     "text": [
      "0.9645522792857297\n"
     ]
    }
   ],
   "source": [
    "from sklearn import metrics\n",
    "print(metrics.accuracy_score(y_test, prediction))"
   ]
  },
  {
   "cell_type": "code",
   "execution_count": 29,
   "id": "b5eda039",
   "metadata": {},
   "outputs": [
    {
     "data": {
      "image/png": "[encoded data removed]",
      "text/plain": [
       "<Figure size 640x480 with 1 Axes>"
      ]
     },
     "metadata": {},
     "output_type": "display_data"
    }
   ],
   "source": [
    "from sklearn.metrics import roc_curve, auc\n",
    "import matplotlib.pyplot as plt\n",
    "\n",
    "# Assuming 'model' is your classifier and 'X_test', 'y_test' are your test data\n",
    "y_score = model.predict_proba(X_test)[:, 1]\n",
    "fpr, tpr, _ = roc_curve(y_test, y_score)\n",
    "roc_auc = auc(fpr, tpr)\n",
    "\n",
    "# Plot ROC curve\n",
    "plt.figure()\n",
    "lw = 2\n",
    "plt.plot(fpr, tpr, color='darkorange', lw=lw, label='ROC curve (area = {:.2f})'.format(roc_auc))\n",
    "plt.plot([0, 1], [0, 1], color='navy', lw=lw, linestyle='--')\n",
    "plt.xlim([0.0, 1.0])\n",
    "plt.ylim([0.0, 1.05])\n",
    "plt.xlabel('False Positive Rate')\n",
    "plt.ylabel('True Positive Rate')\n",
    "plt.title('Receiver Operating Characteristic (ROC) Curve')\n",
    "plt.legend(loc='lower right')\n",
    "plt.show()\n"
   ]
  },
  {
   "cell_type": "code",
   "execution_count": 30,
   "id": "6cc7c786",
   "metadata": {},
   "outputs": [
    {
     "name": "stdout",
     "output_type": "stream",
     "text": [
      "Elevation    0.759965\n",
      "Slope        0.217147\n",
      "Soils        0.012129\n",
      "Lc           0.010760\n",
      "dtype: float64\n"
     ]
    }
   ],
   "source": [
    "#importances = list(model_RF.feature_importances_)\n",
    "feature_imp = pd.Series(model.feature_importances_, index=features_list).sort_values(ascending=False)\n",
    "print(feature_imp)"
   ]
  },
  {
   "cell_type": "markdown",
   "id": "e0e30deb",
   "metadata": {},
   "source": [
    "# Feature significance plot"
   ]
  },
  {
   "cell_type": "code",
   "execution_count": 31,
   "id": "8ed877ea",
   "metadata": {},
   "outputs": [
    {
     "data": {
      "text/plain": [
       "<AxesSubplot: >"
      ]
     },
     "execution_count": 31,
     "metadata": {},
     "output_type": "execute_result"
    },
    {
     "data": {
      "image/png": "[encoded data removed]",
      "text/plain": [
       "<Figure size 640x480 with 1 Axes>"
      ]
     },
     "metadata": {},
     "output_type": "display_data"
    }
   ],
   "source": [
    "feature_imp.plot.barh()"
   ]
  },
  {
   "cell_type": "code",
   "execution_count": 32,
   "id": "64c5aeec",
   "metadata": {},
   "outputs": [
    {
     "data": {
      "text/html": [
       "<div>\n",
       "<style scoped>\n",
       "    .dataframe tbody tr th:only-of-type {\n",
       "        vertical-align: middle;\n",
       "    }\n",
       "\n",
       "    .dataframe tbody tr th {\n",
       "        vertical-align: top;\n",
       "    }\n",
       "\n",
       "    .dataframe thead th {\n",
       "        text-align: right;\n",
       "    }\n",
       "</style>\n",
       "<table border=\"1\" class=\"dataframe\">\n",
       "  <thead>\n",
       "    <tr style=\"text-align: right;\">\n",
       "      <th></th>\n",
       "      <th>OBJECTID_1</th>\n",
       "      <th>OBJECTID</th>\n",
       "      <th>pointid</th>\n",
       "      <th>grid_code</th>\n",
       "      <th>Label</th>\n",
       "      <th>geometry</th>\n",
       "      <th>Elevation</th>\n",
       "      <th>Slope</th>\n",
       "      <th>Soils</th>\n",
       "      <th>Lc</th>\n",
       "    </tr>\n",
       "  </thead>\n",
       "  <tbody>\n",
       "    <tr>\n",
       "      <th>0</th>\n",
       "      <td>563822</td>\n",
       "      <td>590071</td>\n",
       "      <td>590071</td>\n",
       "      <td>0</td>\n",
       "      <td>0</td>\n",
       "      <td>POINT Z (2480684.910 7448277.078 0.000)</td>\n",
       "      <td>0</td>\n",
       "      <td>-340282306073709652508363335590014353408.0</td>\n",
       "      <td>5</td>\n",
       "      <td>65535</td>\n",
       "    </tr>\n",
       "    <tr>\n",
       "      <th>1</th>\n",
       "      <td>563823</td>\n",
       "      <td>590072</td>\n",
       "      <td>590072</td>\n",
       "      <td>0</td>\n",
       "      <td>0</td>\n",
       "      <td>POINT Z (2480726.759 7448277.078 0.000)</td>\n",
       "      <td>0</td>\n",
       "      <td>0.0</td>\n",
       "      <td>5</td>\n",
       "      <td>65535</td>\n",
       "    </tr>\n",
       "    <tr>\n",
       "      <th>2</th>\n",
       "      <td>563824</td>\n",
       "      <td>590073</td>\n",
       "      <td>590073</td>\n",
       "      <td>0</td>\n",
       "      <td>0</td>\n",
       "      <td>POINT Z (2480768.607 7448277.078 0.000)</td>\n",
       "      <td>0</td>\n",
       "      <td>43.914688</td>\n",
       "      <td>2</td>\n",
       "      <td>65535</td>\n",
       "    </tr>\n",
       "    <tr>\n",
       "      <th>3</th>\n",
       "      <td>563825</td>\n",
       "      <td>590074</td>\n",
       "      <td>590074</td>\n",
       "      <td>96</td>\n",
       "      <td>0</td>\n",
       "      <td>POINT Z (2480810.456 7448277.078 0.000)</td>\n",
       "      <td>96</td>\n",
       "      <td>43.696625</td>\n",
       "      <td>2</td>\n",
       "      <td>65535</td>\n",
       "    </tr>\n",
       "    <tr>\n",
       "      <th>4</th>\n",
       "      <td>563826</td>\n",
       "      <td>590075</td>\n",
       "      <td>590075</td>\n",
       "      <td>95</td>\n",
       "      <td>0</td>\n",
       "      <td>POINT Z (2480852.304 7448277.078 0.000)</td>\n",
       "      <td>95</td>\n",
       "      <td>1.184414</td>\n",
       "      <td>2</td>\n",
       "      <td>65535</td>\n",
       "    </tr>\n",
       "  </tbody>\n",
       "</table>\n",
       "</div>"
      ],
      "text/plain": [
       "   OBJECTID_1  OBJECTID  pointid  grid_code  Label  \\\n",
       "0      563822    590071   590071          0      0   \n",
       "1      563823    590072   590072          0      0   \n",
       "2      563824    590073   590073          0      0   \n",
       "3      563825    590074   590074         96      0   \n",
       "4      563826    590075   590075         95      0   \n",
       "\n",
       "                                  geometry  Elevation  \\\n",
       "0  POINT Z (2480684.910 7448277.078 0.000)          0   \n",
       "1  POINT Z (2480726.759 7448277.078 0.000)          0   \n",
       "2  POINT Z (2480768.607 7448277.078 0.000)          0   \n",
       "3  POINT Z (2480810.456 7448277.078 0.000)         96   \n",
       "4  POINT Z (2480852.304 7448277.078 0.000)         95   \n",
       "\n",
       "                                       Slope  Soils     Lc  \n",
       "0 -340282306073709652508363335590014353408.0      5  65535  \n",
       "1                                        0.0      5  65535  \n",
       "2                                  43.914688      2  65535  \n",
       "3                                  43.696625      2  65535  \n",
       "4                                   1.184414      2  65535  "
      ]
     },
     "execution_count": 32,
     "metadata": {},
     "output_type": "execute_result"
    }
   ],
   "source": [
    "df=pd.read_pickle(\"invents.pkl\") # in case of pickle\n",
    "df.head()"
   ]
  },
  {
   "cell_type": "code",
   "execution_count": 33,
   "id": "a780e9eb",
   "metadata": {},
   "outputs": [
    {
     "data": {
      "text/html": [
       "<div>\n",
       "<style scoped>\n",
       "    .dataframe tbody tr th:only-of-type {\n",
       "        vertical-align: middle;\n",
       "    }\n",
       "\n",
       "    .dataframe tbody tr th {\n",
       "        vertical-align: top;\n",
       "    }\n",
       "\n",
       "    .dataframe thead th {\n",
       "        text-align: right;\n",
       "    }\n",
       "</style>\n",
       "<table border=\"1\" class=\"dataframe\">\n",
       "  <thead>\n",
       "    <tr style=\"text-align: right;\">\n",
       "      <th></th>\n",
       "      <th>OBJECTID_1</th>\n",
       "      <th>OBJECTID</th>\n",
       "      <th>pointid</th>\n",
       "      <th>grid_code</th>\n",
       "      <th>Elevation</th>\n",
       "      <th>Slope</th>\n",
       "      <th>Soils</th>\n",
       "      <th>Lc</th>\n",
       "    </tr>\n",
       "  </thead>\n",
       "  <tbody>\n",
       "    <tr>\n",
       "      <th>0</th>\n",
       "      <td>563822</td>\n",
       "      <td>590071</td>\n",
       "      <td>590071</td>\n",
       "      <td>0</td>\n",
       "      <td>0</td>\n",
       "      <td>-340282306073709652508363335590014353408.0</td>\n",
       "      <td>5</td>\n",
       "      <td>65535</td>\n",
       "    </tr>\n",
       "    <tr>\n",
       "      <th>1</th>\n",
       "      <td>563823</td>\n",
       "      <td>590072</td>\n",
       "      <td>590072</td>\n",
       "      <td>0</td>\n",
       "      <td>0</td>\n",
       "      <td>0.0</td>\n",
       "      <td>5</td>\n",
       "      <td>65535</td>\n",
       "    </tr>\n",
       "    <tr>\n",
       "      <th>2</th>\n",
       "      <td>563824</td>\n",
       "      <td>590073</td>\n",
       "      <td>590073</td>\n",
       "      <td>0</td>\n",
       "      <td>0</td>\n",
       "      <td>43.914688</td>\n",
       "      <td>2</td>\n",
       "      <td>65535</td>\n",
       "    </tr>\n",
       "    <tr>\n",
       "      <th>3</th>\n",
       "      <td>563825</td>\n",
       "      <td>590074</td>\n",
       "      <td>590074</td>\n",
       "      <td>96</td>\n",
       "      <td>96</td>\n",
       "      <td>43.696625</td>\n",
       "      <td>2</td>\n",
       "      <td>65535</td>\n",
       "    </tr>\n",
       "    <tr>\n",
       "      <th>4</th>\n",
       "      <td>563826</td>\n",
       "      <td>590075</td>\n",
       "      <td>590075</td>\n",
       "      <td>95</td>\n",
       "      <td>95</td>\n",
       "      <td>1.184414</td>\n",
       "      <td>2</td>\n",
       "      <td>65535</td>\n",
       "    </tr>\n",
       "  </tbody>\n",
       "</table>\n",
       "</div>"
      ],
      "text/plain": [
       "   OBJECTID_1  OBJECTID  pointid  grid_code  Elevation  \\\n",
       "0      563822    590071   590071          0          0   \n",
       "1      563823    590072   590072          0          0   \n",
       "2      563824    590073   590073          0          0   \n",
       "3      563825    590074   590074         96         96   \n",
       "4      563826    590075   590075         95         95   \n",
       "\n",
       "                                       Slope  Soils     Lc  \n",
       "0 -340282306073709652508363335590014353408.0      5  65535  \n",
       "1                                        0.0      5  65535  \n",
       "2                                  43.914688      2  65535  \n",
       "3                                  43.696625      2  65535  \n",
       "4                                   1.184414      2  65535  "
      ]
     },
     "execution_count": 33,
     "metadata": {},
     "output_type": "execute_result"
    }
   ],
   "source": [
    "X_hotspot0= df.drop(labels = [\"geometry\",'Label'], axis=1) \n",
    "X_hotspot0.head()"
   ]
  },
  {
   "cell_type": "code",
   "execution_count": 34,
   "id": "fd374be7",
   "metadata": {},
   "outputs": [
    {
     "data": {
      "text/plain": [
       "Index(['Elevation', 'Slope', 'Soils', 'Lc'], dtype='object')"
      ]
     },
     "execution_count": 34,
     "metadata": {},
     "output_type": "execute_result"
    }
   ],
   "source": [
    "cols=X.columns\n",
    "cols"
   ]
  },
  {
   "cell_type": "code",
   "execution_count": 35,
   "id": "39072ec1",
   "metadata": {},
   "outputs": [
    {
     "data": {
      "text/html": [
       "<div>\n",
       "<style scoped>\n",
       "    .dataframe tbody tr th:only-of-type {\n",
       "        vertical-align: middle;\n",
       "    }\n",
       "\n",
       "    .dataframe tbody tr th {\n",
       "        vertical-align: top;\n",
       "    }\n",
       "\n",
       "    .dataframe thead th {\n",
       "        text-align: right;\n",
       "    }\n",
       "</style>\n",
       "<table border=\"1\" class=\"dataframe\">\n",
       "  <thead>\n",
       "    <tr style=\"text-align: right;\">\n",
       "      <th></th>\n",
       "      <th>Elevation</th>\n",
       "      <th>Slope</th>\n",
       "      <th>Soils</th>\n",
       "      <th>Lc</th>\n",
       "    </tr>\n",
       "  </thead>\n",
       "  <tbody>\n",
       "    <tr>\n",
       "      <th>0</th>\n",
       "      <td>0</td>\n",
       "      <td>-340282306073709652508363335590014353408.0</td>\n",
       "      <td>5</td>\n",
       "      <td>65535</td>\n",
       "    </tr>\n",
       "    <tr>\n",
       "      <th>1</th>\n",
       "      <td>0</td>\n",
       "      <td>0.0</td>\n",
       "      <td>5</td>\n",
       "      <td>65535</td>\n",
       "    </tr>\n",
       "    <tr>\n",
       "      <th>2</th>\n",
       "      <td>0</td>\n",
       "      <td>43.914688</td>\n",
       "      <td>2</td>\n",
       "      <td>65535</td>\n",
       "    </tr>\n",
       "    <tr>\n",
       "      <th>3</th>\n",
       "      <td>96</td>\n",
       "      <td>43.696625</td>\n",
       "      <td>2</td>\n",
       "      <td>65535</td>\n",
       "    </tr>\n",
       "    <tr>\n",
       "      <th>4</th>\n",
       "      <td>95</td>\n",
       "      <td>1.184414</td>\n",
       "      <td>2</td>\n",
       "      <td>65535</td>\n",
       "    </tr>\n",
       "  </tbody>\n",
       "</table>\n",
       "</div>"
      ],
      "text/plain": [
       "   Elevation                                      Slope  Soils     Lc\n",
       "0          0 -340282306073709652508363335590014353408.0      5  65535\n",
       "1          0                                        0.0      5  65535\n",
       "2          0                                  43.914688      2  65535\n",
       "3         96                                  43.696625      2  65535\n",
       "4         95                                   1.184414      2  65535"
      ]
     },
     "execution_count": 35,
     "metadata": {},
     "output_type": "execute_result"
    }
   ],
   "source": [
    "X_hotspot0=X_hotspot0[cols]\n",
    "X_hotspot0.head()"
   ]
  },
  {
   "cell_type": "code",
   "execution_count": 36,
   "id": "bc5eef45",
   "metadata": {},
   "outputs": [],
   "source": [
    "X_hotspot0 = X_hotspot0.dropna()"
   ]
  },
  {
   "cell_type": "code",
   "execution_count": 37,
   "id": "e77a902d",
   "metadata": {},
   "outputs": [],
   "source": [
    "df=df.dropna()"
   ]
  },
  {
   "cell_type": "code",
   "execution_count": 38,
   "id": "c178ba11",
   "metadata": {},
   "outputs": [],
   "source": [
    "prediction_prob=model.predict_proba(X_hotspot0)"
   ]
  },
  {
   "cell_type": "code",
   "execution_count": 39,
   "id": "589abd07",
   "metadata": {},
   "outputs": [
    {
     "data": {
      "text/plain": [
       "array([[1.        , 0.        ],\n",
       "       [0.39166667, 0.60833333],\n",
       "       [1.        , 0.        ],\n",
       "       ...,\n",
       "       [0.        , 1.        ],\n",
       "       [0.25      , 0.75      ],\n",
       "       [0.47      , 0.53      ]])"
      ]
     },
     "execution_count": 39,
     "metadata": {},
     "output_type": "execute_result"
    }
   ],
   "source": [
    "prediction_prob"
   ]
  },
  {
   "cell_type": "code",
   "execution_count": 40,
   "id": "ce4bf45e",
   "metadata": {},
   "outputs": [
    {
     "data": {
      "text/plain": [
       "array([0.        , 0.60833333, 0.        , ..., 1.        , 0.75      ,\n",
       "       0.53      ])"
      ]
     },
     "execution_count": 40,
     "metadata": {},
     "output_type": "execute_result"
    }
   ],
   "source": [
    "ls_hotspot0=prediction_prob[:,1]\n",
    "ls_hotspot0"
   ]
  },
  {
   "cell_type": "code",
   "execution_count": 41,
   "id": "d365bc52",
   "metadata": {},
   "outputs": [
    {
     "data": {
      "text/html": [
       "<div>\n",
       "<style scoped>\n",
       "    .dataframe tbody tr th:only-of-type {\n",
       "        vertical-align: middle;\n",
       "    }\n",
       "\n",
       "    .dataframe tbody tr th {\n",
       "        vertical-align: top;\n",
       "    }\n",
       "\n",
       "    .dataframe thead th {\n",
       "        text-align: right;\n",
       "    }\n",
       "</style>\n",
       "<table border=\"1\" class=\"dataframe\">\n",
       "  <thead>\n",
       "    <tr style=\"text-align: right;\">\n",
       "      <th></th>\n",
       "      <th>OBJECTID_1</th>\n",
       "      <th>OBJECTID</th>\n",
       "      <th>pointid</th>\n",
       "      <th>grid_code</th>\n",
       "      <th>Label</th>\n",
       "      <th>geometry</th>\n",
       "      <th>Elevation</th>\n",
       "      <th>Slope</th>\n",
       "      <th>Soils</th>\n",
       "      <th>Lc</th>\n",
       "      <th>FSM</th>\n",
       "    </tr>\n",
       "  </thead>\n",
       "  <tbody>\n",
       "    <tr>\n",
       "      <th>0</th>\n",
       "      <td>563822</td>\n",
       "      <td>590071</td>\n",
       "      <td>590071</td>\n",
       "      <td>0</td>\n",
       "      <td>0</td>\n",
       "      <td>POINT Z (2480684.910 7448277.078 0.000)</td>\n",
       "      <td>0</td>\n",
       "      <td>-340282306073709652508363335590014353408.0</td>\n",
       "      <td>5</td>\n",
       "      <td>65535</td>\n",
       "      <td>0.000000</td>\n",
       "    </tr>\n",
       "    <tr>\n",
       "      <th>1</th>\n",
       "      <td>563823</td>\n",
       "      <td>590072</td>\n",
       "      <td>590072</td>\n",
       "      <td>0</td>\n",
       "      <td>0</td>\n",
       "      <td>POINT Z (2480726.759 7448277.078 0.000)</td>\n",
       "      <td>0</td>\n",
       "      <td>0.0</td>\n",
       "      <td>5</td>\n",
       "      <td>65535</td>\n",
       "      <td>0.608333</td>\n",
       "    </tr>\n",
       "    <tr>\n",
       "      <th>2</th>\n",
       "      <td>563824</td>\n",
       "      <td>590073</td>\n",
       "      <td>590073</td>\n",
       "      <td>0</td>\n",
       "      <td>0</td>\n",
       "      <td>POINT Z (2480768.607 7448277.078 0.000)</td>\n",
       "      <td>0</td>\n",
       "      <td>43.914688</td>\n",
       "      <td>2</td>\n",
       "      <td>65535</td>\n",
       "      <td>0.000000</td>\n",
       "    </tr>\n",
       "    <tr>\n",
       "      <th>3</th>\n",
       "      <td>563825</td>\n",
       "      <td>590074</td>\n",
       "      <td>590074</td>\n",
       "      <td>96</td>\n",
       "      <td>0</td>\n",
       "      <td>POINT Z (2480810.456 7448277.078 0.000)</td>\n",
       "      <td>96</td>\n",
       "      <td>43.696625</td>\n",
       "      <td>2</td>\n",
       "      <td>65535</td>\n",
       "      <td>0.000000</td>\n",
       "    </tr>\n",
       "    <tr>\n",
       "      <th>4</th>\n",
       "      <td>563826</td>\n",
       "      <td>590075</td>\n",
       "      <td>590075</td>\n",
       "      <td>95</td>\n",
       "      <td>0</td>\n",
       "      <td>POINT Z (2480852.304 7448277.078 0.000)</td>\n",
       "      <td>95</td>\n",
       "      <td>1.184414</td>\n",
       "      <td>2</td>\n",
       "      <td>65535</td>\n",
       "      <td>0.000000</td>\n",
       "    </tr>\n",
       "  </tbody>\n",
       "</table>\n",
       "</div>"
      ],
      "text/plain": [
       "   OBJECTID_1  OBJECTID  pointid  grid_code  Label  \\\n",
       "0      563822    590071   590071          0      0   \n",
       "1      563823    590072   590072          0      0   \n",
       "2      563824    590073   590073          0      0   \n",
       "3      563825    590074   590074         96      0   \n",
       "4      563826    590075   590075         95      0   \n",
       "\n",
       "                                  geometry  Elevation  \\\n",
       "0  POINT Z (2480684.910 7448277.078 0.000)          0   \n",
       "1  POINT Z (2480726.759 7448277.078 0.000)          0   \n",
       "2  POINT Z (2480768.607 7448277.078 0.000)          0   \n",
       "3  POINT Z (2480810.456 7448277.078 0.000)         96   \n",
       "4  POINT Z (2480852.304 7448277.078 0.000)         95   \n",
       "\n",
       "                                       Slope  Soils     Lc       FSM  \n",
       "0 -340282306073709652508363335590014353408.0      5  65535  0.000000  \n",
       "1                                        0.0      5  65535  0.608333  \n",
       "2                                  43.914688      2  65535  0.000000  \n",
       "3                                  43.696625      2  65535  0.000000  \n",
       "4                                   1.184414      2  65535  0.000000  "
      ]
     },
     "execution_count": 41,
     "metadata": {},
     "output_type": "execute_result"
    }
   ],
   "source": [
    "df['FSM']=ls_hotspot0\n",
    "df.head()"
   ]
  },
  {
   "cell_type": "code",
   "execution_count": 42,
   "id": "c2ff6902",
   "metadata": {
    "scrolled": true
   },
   "outputs": [],
   "source": [
    "import geocube\n",
    "from geocube.api.core import make_geocube\n",
    "\n",
    "geo_grid = make_geocube(\n",
    "    vector_data=df,\n",
    "    measurements=['FSM'],\n",
    "    resolution=(-90, 90)\n",
    ")"
   ]
  },
  {
   "cell_type": "markdown",
   "id": "7bc3f04b",
   "metadata": {},
   "source": [
    "# Study Area"
   ]
  },
  {
   "cell_type": "code",
   "execution_count": 43,
   "id": "825d0f83",
   "metadata": {
    "scrolled": true
   },
   "outputs": [
    {
     "data": {
      "text/plain": [
       "<matplotlib.collections.QuadMesh at 0x1effe819370>"
      ]
     },
     "execution_count": 43,
     "metadata": {},
     "output_type": "execute_result"
    },
    {
     "data": {
      "image/png": "[encoded data removed]",
      "text/plain": [
       "<Figure size 640x480 with 2 Axes>"
      ]
     },
     "metadata": {},
     "output_type": "display_data"
    }
   ],
   "source": [
    "geo_grid.FSM.plot()"
   ]
  },
  {
   "cell_type": "code",
   "execution_count": null,
   "id": "8cdf759a",
   "metadata": {},
   "outputs": [],
   "source": []
  }
 ],
 "metadata": {
  "kernelspec": {
   "display_name": "Python 3 (ipykernel)",
   "language": "python",
   "name": "python3"
  },
  "language_info": {
   "codemirror_mode": {
    "name": "ipython",
    "version": 3
   },
   "file_extension": ".py",
   "mimetype": "text/x-python",
   "name": "python",
   "nbconvert_exporter": "python",
   "pygments_lexer": "ipython3",
   "version": "3.9.18"
  }
 },
 "nbformat": 4,
 "nbformat_minor": 5
}
